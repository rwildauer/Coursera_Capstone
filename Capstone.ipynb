{
 "cells": [
  {
   "cell_type": "markdown",
   "metadata": {},
   "source": [
    "# Coursera Data Science Capstone"
   ]
  },
  {
   "cell_type": "markdown",
   "metadata": {},
   "source": [
    "## Introduction"
   ]
  },
  {
   "cell_type": "markdown",
   "metadata": {},
   "source": [
    "**Summary**\n",
    "This report seeks to analyze data from various cities on the East Coast of the United States.  Namely, I am seeking to use information from FourSquare in order to ascertain which major cities have the smallest number of Chiropractors per-capita.  One could leverage this data in determining where to open a new practice if a certain area is under-served.  Alternatively, one may look to move to an area with many practices so one could start a career there as an employee rather than proprietor\n",
    "\n",
    "**Target Audience**\n",
    "My target audience is composed of potential professionals in the field of Chiropractic.  This may be interesting information to have when planning to visit conferences, start a practice, attend university, etc.  Though individuals outside of the Chiropractic community may find the information useful in finding cities with a potentially larger footprint of alternative medicine providers\n",
    "\n",
    "**Primary Questions**\n",
    "Which cities in the Eastern United States have the smallest number of Chiropractors?  \n",
    "Which cities in the Eastern United States have the largest number of Chiropractors?\n"
   ]
  },
  {
   "cell_type": "markdown",
   "metadata": {},
   "source": [
    "## Data"
   ]
  },
  {
   "cell_type": "markdown",
   "metadata": {},
   "source": [
    "**Data Sources**\n",
    "Data will be coming from two primary sources.  First, the FourSquare API will be used to collect data about various cities in the US and get the number and location of Chiropractors. Two, Wikipedia will be used for the cities in question to acquire demographic and population size data for the cities being analyzed\n",
    "\n",
    "One way I will use the FourSquare data is to use the \"name\" subfield under \"category\".  This field will help determine if a venue is a Chiropractor.  Additionally, I will use the \"lat\" and \"lng\" subfields of \"location\" to determine if a venue is within a city's limits\n",
    "\n",
    "I will leverage Wikipedia to get the population totals for major cities within the US.  [This article](https://en.wikipedia.org/wiki/List_of_United_States_cities_by_population) should be of use, specifically"
   ]
  }
 ],
 "metadata": {
  "kernelspec": {
   "display_name": "Python",
   "language": "python",
   "name": "conda-env-python-py"
  },
  "language_info": {
   "codemirror_mode": {
    "name": "ipython",
    "version": 3
   },
   "file_extension": ".py",
   "mimetype": "text/x-python",
   "name": "python",
   "nbconvert_exporter": "python",
   "pygments_lexer": "ipython3",
   "version": "3.6.7"
  }
 },
 "nbformat": 4,
 "nbformat_minor": 4
}
